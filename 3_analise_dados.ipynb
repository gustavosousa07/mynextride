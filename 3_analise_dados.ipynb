{
 "cells": [
  {
   "cell_type": "code",
   "execution_count": 3,
   "id": "28dbc750",
   "metadata": {},
   "outputs": [
    {
     "ename": "ModuleNotFoundError",
     "evalue": "No module named 'sklearn'",
     "output_type": "error",
     "traceback": [
      "\u001b[31m---------------------------------------------------------------------------\u001b[39m",
      "\u001b[31mModuleNotFoundError\u001b[39m                       Traceback (most recent call last)",
      "\u001b[36mCell\u001b[39m\u001b[36m \u001b[39m\u001b[32mIn[3]\u001b[39m\u001b[32m, line 3\u001b[39m\n\u001b[32m      1\u001b[39m \u001b[38;5;28;01mimport\u001b[39;00m\u001b[38;5;250m \u001b[39m\u001b[34;01mpandas\u001b[39;00m\u001b[38;5;250m \u001b[39m\u001b[38;5;28;01mas\u001b[39;00m\u001b[38;5;250m \u001b[39m\u001b[34;01mpd\u001b[39;00m\n\u001b[32m      2\u001b[39m \u001b[38;5;28;01mimport\u001b[39;00m\u001b[38;5;250m \u001b[39m\u001b[34;01mnumpy\u001b[39;00m\u001b[38;5;250m \u001b[39m\u001b[38;5;28;01mas\u001b[39;00m\u001b[38;5;250m \u001b[39m\u001b[34;01mnp\u001b[39;00m\n\u001b[32m----> \u001b[39m\u001b[32m3\u001b[39m \u001b[38;5;28;01mfrom\u001b[39;00m\u001b[38;5;250m \u001b[39m\u001b[34;01msklearn\u001b[39;00m\u001b[34;01m.\u001b[39;00m\u001b[34;01mmodel_selection\u001b[39;00m\u001b[38;5;250m \u001b[39m\u001b[38;5;28;01mimport\u001b[39;00m train_test_split\n\u001b[32m      4\u001b[39m \u001b[38;5;28;01mfrom\u001b[39;00m\u001b[38;5;250m \u001b[39m\u001b[34;01msklearn\u001b[39;00m\u001b[34;01m.\u001b[39;00m\u001b[34;01mensemble\u001b[39;00m\u001b[38;5;250m \u001b[39m\u001b[38;5;28;01mimport\u001b[39;00m RandomForestClassifier\n\u001b[32m      5\u001b[39m \u001b[38;5;28;01mfrom\u001b[39;00m\u001b[38;5;250m \u001b[39m\u001b[34;01msklearn\u001b[39;00m\u001b[34;01m.\u001b[39;00m\u001b[34;01mmetrics\u001b[39;00m\u001b[38;5;250m \u001b[39m\u001b[38;5;28;01mimport\u001b[39;00m accuracy_score, classification_report\n",
      "\u001b[31mModuleNotFoundError\u001b[39m: No module named 'sklearn'"
     ]
    }
   ],
   "source": [
    "import pandas as pd\n",
    "import numpy as np\n",
    "from sklearn.model_selection import train_test_split\n",
    "from sklearn.ensemble import RandomForestClassifier\n",
    "from sklearn.metrics import accuracy_score, classification_report\n",
    "\n",
    "# --- PASSO 1: Carregar os Dados e Criar o Perfil do Cliente ---\n",
    "\n",
    "# Carregue seus dados (do CSV ou do DB)\n",
    "df = pd.read_csv('viagens_clickbus.csv')\n",
    "df['date_purchase'] = pd.to_datetime(df['date_purchase'])\n",
    "\n",
    "# Agrupar por cliente para entender o comportamento (código que já tínhamos)\n",
    "perfil_cliente = df.groupby('fk_contact').agg(\n",
    "    total_gasto=('gmv_success', 'sum'),\n",
    "    total_viagens=('nk_ota_localizer_id', 'count'),\n",
    "    destinos_unicos=('place_destination_departure', 'nunique'),\n",
    "    primeira_compra=('date_purchase', 'min'),\n",
    "    ultima_compra=('date_purchase', 'max')\n",
    ").reset_index()\n",
    "\n",
    "# --- PASSO 2: Engenharia de Features e Criação do Alvo (Target) ---\n",
    "\n",
    "# O objetivo é prever a recompra em 30 dias.\n",
    "# Como não temos dados futuros para saber quem realmente comprou de novo,\n",
    "# vamos SIMULAR essa variável alvo de forma realista para demonstrar o modelo.\n",
    "# A simulação assume que clientes com mais gastos têm mais chance de recomprar.\n",
    "\n",
    "# Normalizar o gasto total entre 0 e 1 para usar como probabilidade\n",
    "prob_recompra = perfil_cliente['total_gasto'] / perfil_cliente['total_gasto'].max()\n",
    "\n",
    "# Criar o alvo 'recompra_em_30d' (1 para SIM, 0 para NÃO)\n",
    "# Usamos uma distribuição binomial com base na probabilidade calculada\n",
    "perfil_cliente['recompra_em_30d'] = np.random.binomial(1, p=prob_recompra, size=len(perfil_cliente))\n",
    "\n",
    "\n",
    "# --- PASSO 3: Preparar os Dados para o Modelo ---\n",
    "\n",
    "# X são as features que usamos para fazer a previsão\n",
    "X = perfil_cliente[['total_gasto', 'total_viagens', 'destinos_unicos']]\n",
    "\n",
    "# y é o alvo que queremos prever\n",
    "y = perfil_cliente['recompra_em_30d']\n",
    "\n",
    "# Dividir os dados em conjunto de treino e conjunto de teste\n",
    "X_train, X_test, y_train, y_test = train_test_split(X, y, test_size=0.2, random_state=42, stratify=y)\n",
    "\n",
    "\n",
    "# --- PASSO 4: Treinar e Avaliar o Modelo de Classificação Binária ---\n",
    "\n",
    "# Usaremos o RandomForestClassifier\n",
    "model_recompra = RandomForestClassifier(n_estimators=100, random_state=42, class_weight='balanced')\n",
    "\n",
    "# Treinar o modelo\n",
    "model_recompra.fit(X_train, y_train)\n",
    "print(\"Modelo de previsão de recompra (Slide 2) treinado com sucesso!\")\n",
    "\n",
    "# Fazer previsões no conjunto de teste\n",
    "y_pred = model_recompra.predict(X_test)\n",
    "\n",
    "# Calcular e exibir a acurácia e outras métricas\n",
    "accuracy = accuracy_score(y_test, y_pred)\n",
    "\n",
    "print(\"\\n--- AVALIAÇÃO DO MODELO (SLIDE 2 - O TIMING É TUDO) ---\")\n",
    "print(f\"Objetivo: Prever se um cliente fará uma recompra nos próximos 30 dias. \")\n",
    "print(f\"Acurácia do Modelo: {accuracy:.2%}\")\n",
    "print(\"\\nRelatório de Classificação Detalhado:\")\n",
    "print(classification_report(y_test, y_pred, target_names=['Não Recomprou', 'Recomprou']))"
   ]
  },
  {
   "cell_type": "code",
   "execution_count": null,
   "id": "9e5bd719",
   "metadata": {},
   "outputs": [],
   "source": []
  },
  {
   "cell_type": "code",
   "execution_count": null,
   "id": "f6397b7e",
   "metadata": {},
   "outputs": [],
   "source": []
  }
 ],
 "metadata": {
  "kernelspec": {
   "display_name": "Python 3",
   "language": "python",
   "name": "python3"
  },
  "language_info": {
   "codemirror_mode": {
    "name": "ipython",
    "version": 3
   },
   "file_extension": ".py",
   "mimetype": "text/x-python",
   "name": "python",
   "nbconvert_exporter": "python",
   "pygments_lexer": "ipython3",
   "version": "3.11.9"
  }
 },
 "nbformat": 4,
 "nbformat_minor": 5
}
